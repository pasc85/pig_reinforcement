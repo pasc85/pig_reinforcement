{
 "cells": [
  {
   "cell_type": "markdown",
   "metadata": {},
   "source": [
    "### Init"
   ]
  },
  {
   "cell_type": "markdown",
   "metadata": {},
   "source": [
    "This is a brief demo of the Pig (dice game) software package.\n",
    "See the [Wiki page](https://en.wikipedia.org/wiki/Pig_%28dice_game%29) for the rules.\n",
    "First, load the software:"
   ]
  },
  {
   "cell_type": "code",
   "execution_count": 1,
   "metadata": {
    "ExecuteTime": {
     "end_time": "2019-01-12T09:06:52.253807Z",
     "start_time": "2019-01-12T09:06:51.966037Z"
    }
   },
   "outputs": [],
   "source": [
    "master_file = open(\"./pig_master.py\")\n",
    "exec(master_file.read())\n",
    "master_file.close()\n",
    "import os"
   ]
  },
  {
   "cell_type": "markdown",
   "metadata": {
    "ExecuteTime": {
     "end_time": "2019-01-09T07:29:06.703517Z",
     "start_time": "2019-01-09T07:29:06.700400Z"
    }
   },
   "source": [
    "### Pig players"
   ]
  },
  {
   "cell_type": "markdown",
   "metadata": {},
   "source": [
    "Next, we define Pig players. There are three strategies:\n",
    "-  <code>strategy='learn'</code> $\\rightarrow$ learn, i.e. make future decisions based on past decisions; parameter: <code>learn_from</code>, a list of sources to learn from\n",
    "-  <code>strategy='hold'</code> $\\rightarrow$ hold at a specified integer; parameter: <code>hold_at</code>\n",
    "-  <code>strategy='random'</code> $\\rightarrow$ decide randomly whether or not to hold; parameter: <code>hold_p</code>\n",
    "\n",
    "Consider the following example."
   ]
  },
  {
   "cell_type": "code",
   "execution_count": 2,
   "metadata": {
    "ExecuteTime": {
     "end_time": "2019-01-12T09:06:52.259901Z",
     "start_time": "2019-01-12T09:06:52.255814Z"
    }
   },
   "outputs": [
    {
     "name": "stdout",
     "output_type": "stream",
     "text": [
      "Player: Alice\n",
      "Data written to: A_demo_dec\n",
      "Strategy: Learn from the following sources.\n",
      " A_demo_dec B_demo_dec\n"
     ]
    }
   ],
   "source": [
    "a = PigPlayer(name='Alice', write_to='A_demo_dec', strategy = 'learn', learn_from=['A_demo_dec', 'B_demo_dec'])\n",
    "print(a)"
   ]
  },
  {
   "cell_type": "code",
   "execution_count": 3,
   "metadata": {
    "ExecuteTime": {
     "end_time": "2019-01-12T09:06:52.385178Z",
     "start_time": "2019-01-12T09:06:52.262987Z"
    },
    "scrolled": true
   },
   "outputs": [
    {
     "name": "stdout",
     "output_type": "stream",
     "text": [
      "Player: Bob\n",
      "Data written to: B_demo_dec\n",
      "Strategy: Random with probability 1.0.\n"
     ]
    }
   ],
   "source": [
    "b = PigPlayer(name='Bob', write_to='B_demo_dec', strategy = 'random', hold_p=1)\n",
    "print(b)"
   ]
  },
  {
   "cell_type": "markdown",
   "metadata": {
    "ExecuteTime": {
     "end_time": "2019-01-09T07:40:25.672607Z",
     "start_time": "2019-01-09T07:40:00.944Z"
    }
   },
   "source": [
    "### Pig tournament"
   ]
  },
  {
   "cell_type": "markdown",
   "metadata": {},
   "source": [
    "A Pig tournament is a sequence of Pig games. It is initialised as follows."
   ]
  },
  {
   "cell_type": "code",
   "execution_count": 4,
   "metadata": {
    "ExecuteTime": {
     "end_time": "2019-01-12T09:06:52.483188Z",
     "start_time": "2019-01-12T09:06:52.389300Z"
    }
   },
   "outputs": [],
   "source": [
    "t = PigTournament(a, b)"
   ]
  },
  {
   "cell_type": "markdown",
   "metadata": {},
   "source": [
    "We first delete old player data, so that Alice starts learning from scratch and we can see her improvement over the course of the tournament."
   ]
  },
  {
   "cell_type": "code",
   "execution_count": 5,
   "metadata": {
    "ExecuteTime": {
     "end_time": "2019-01-12T09:06:52.639785Z",
     "start_time": "2019-01-12T09:06:52.486592Z"
    }
   },
   "outputs": [],
   "source": [
    "if os.path.isfile('./player_data/A_demo_dec.p'):\n",
    "    os.remove('./player_data/A_demo_dec.p')\n",
    "if os.path.isfile('./player_data/B_demo_dec.p'):\n",
    "    os.remove('./player_data/B_demo_dec.p')"
   ]
  },
  {
   "cell_type": "markdown",
   "metadata": {},
   "source": [
    "Running <code>play_games()</code> will simulate <code>n</code> (default 100) games. Here, all decisions and whether or not the lead to victory are recorded after each game, and Alice will base future decisions on that experience."
   ]
  },
  {
   "cell_type": "code",
   "execution_count": 6,
   "metadata": {
    "ExecuteTime": {
     "end_time": "2019-01-12T09:06:54.220845Z",
     "start_time": "2019-01-12T09:06:52.641349Z"
    }
   },
   "outputs": [
    {
     "data": {
      "application/vnd.jupyter.widget-view+json": {
       "model_id": "cf85518b9aa141a9a1cd9574846f0d1d",
       "version_major": 2,
       "version_minor": 0
      },
      "text/html": [
       "<p>Failed to display Jupyter Widget of type <code>HBox</code>.</p>\n",
       "<p>\n",
       "  If you're reading this message in the Jupyter Notebook or JupyterLab Notebook, it may mean\n",
       "  that the widgets JavaScript is still loading. If this message persists, it\n",
       "  likely means that the widgets JavaScript library is either not installed or\n",
       "  not enabled. See the <a href=\"https://ipywidgets.readthedocs.io/en/stable/user_install.html\">Jupyter\n",
       "  Widgets Documentation</a> for setup instructions.\n",
       "</p>\n",
       "<p>\n",
       "  If you're reading this message in another frontend (for example, a static\n",
       "  rendering on GitHub or <a href=\"https://nbviewer.jupyter.org/\">NBViewer</a>),\n",
       "  it may mean that your frontend doesn't currently support widgets.\n",
       "</p>\n"
      ],
      "text/plain": [
       "HBox(children=(IntProgress(value=0, max=10), HTML(value='')))"
      ]
     },
     "metadata": {},
     "output_type": "display_data"
    },
    {
     "name": "stdout",
     "output_type": "stream",
     "text": [
      "\n",
      "Alice (8 wins) : (2 wins) Bob\n"
     ]
    }
   ],
   "source": [
    "t.play_games(n=10)\n",
    "print(t)"
   ]
  },
  {
   "cell_type": "code",
   "execution_count": 7,
   "metadata": {
    "ExecuteTime": {
     "end_time": "2019-01-12T09:07:12.836392Z",
     "start_time": "2019-01-12T09:06:54.222543Z"
    }
   },
   "outputs": [
    {
     "data": {
      "application/vnd.jupyter.widget-view+json": {
       "model_id": "9eb084f21110463db6a74a25b6615b52",
       "version_major": 2,
       "version_minor": 0
      },
      "text/html": [
       "<p>Failed to display Jupyter Widget of type <code>HBox</code>.</p>\n",
       "<p>\n",
       "  If you're reading this message in the Jupyter Notebook or JupyterLab Notebook, it may mean\n",
       "  that the widgets JavaScript is still loading. If this message persists, it\n",
       "  likely means that the widgets JavaScript library is either not installed or\n",
       "  not enabled. See the <a href=\"https://ipywidgets.readthedocs.io/en/stable/user_install.html\">Jupyter\n",
       "  Widgets Documentation</a> for setup instructions.\n",
       "</p>\n",
       "<p>\n",
       "  If you're reading this message in another frontend (for example, a static\n",
       "  rendering on GitHub or <a href=\"https://nbviewer.jupyter.org/\">NBViewer</a>),\n",
       "  it may mean that your frontend doesn't currently support widgets.\n",
       "</p>\n"
      ],
      "text/plain": [
       "HBox(children=(IntProgress(value=0, max=190), HTML(value='')))"
      ]
     },
     "metadata": {},
     "output_type": "display_data"
    },
    {
     "name": "stdout",
     "output_type": "stream",
     "text": [
      "\n",
      "Alice (74 wins) : (26 wins) Bob\n"
     ]
    }
   ],
   "source": [
    "t.play_games(n=190)\n",
    "print(t)"
   ]
  },
  {
   "cell_type": "code",
   "execution_count": 8,
   "metadata": {
    "ExecuteTime": {
     "end_time": "2019-01-12T09:08:33.688991Z",
     "start_time": "2019-01-12T09:07:12.840093Z"
    }
   },
   "outputs": [
    {
     "data": {
      "application/vnd.jupyter.widget-view+json": {
       "model_id": "9745321b3f124b3f9276236df46312c0",
       "version_major": 2,
       "version_minor": 0
      },
      "text/html": [
       "<p>Failed to display Jupyter Widget of type <code>HBox</code>.</p>\n",
       "<p>\n",
       "  If you're reading this message in the Jupyter Notebook or JupyterLab Notebook, it may mean\n",
       "  that the widgets JavaScript is still loading. If this message persists, it\n",
       "  likely means that the widgets JavaScript library is either not installed or\n",
       "  not enabled. See the <a href=\"https://ipywidgets.readthedocs.io/en/stable/user_install.html\">Jupyter\n",
       "  Widgets Documentation</a> for setup instructions.\n",
       "</p>\n",
       "<p>\n",
       "  If you're reading this message in another frontend (for example, a static\n",
       "  rendering on GitHub or <a href=\"https://nbviewer.jupyter.org/\">NBViewer</a>),\n",
       "  it may mean that your frontend doesn't currently support widgets.\n",
       "</p>\n"
      ],
      "text/plain": [
       "HBox(children=(IntProgress(value=0, max=800), HTML(value='')))"
      ]
     },
     "metadata": {},
     "output_type": "display_data"
    },
    {
     "name": "stdout",
     "output_type": "stream",
     "text": [
      "\n",
      "Alice (98 wins) : (2 wins) Bob\n"
     ]
    }
   ],
   "source": [
    "t.play_games(n=800)\n",
    "print(t)"
   ]
  },
  {
   "cell_type": "markdown",
   "metadata": {},
   "source": [
    "### Output"
   ]
  },
  {
   "cell_type": "markdown",
   "metadata": {},
   "source": [
    "<code>PigPlayer</code> objects as well as <code>PigTournament</code>s have can be printed, where printing a tournament gives the score over the last 100 games. Furthermore, can produce the following plot (the sequence that is plotted there can be obtained via <code>results_as_sequence()</code>)."
   ]
  },
  {
   "cell_type": "code",
   "execution_count": 9,
   "metadata": {
    "ExecuteTime": {
     "end_time": "2019-01-12T09:08:33.863663Z",
     "start_time": "2019-01-12T09:08:33.691486Z"
    },
    "scrolled": true
   },
   "outputs": [
    {
     "data": {
      "image/png": "[encoded data removed]",
      "text/plain": [
       "<matplotlib.figure.Figure at 0x7f6f52387438>"
      ]
     },
     "metadata": {},
     "output_type": "display_data"
    }
   ],
   "source": [
    "t.plot_results()"
   ]
  },
  {
   "cell_type": "markdown",
   "metadata": {},
   "source": [
    "### Performance"
   ]
  },
  {
   "cell_type": "markdown",
   "metadata": {},
   "source": [
    "The learning performance in the above example was very good -- the learner Alice progresses from a winning probability of about 60% to about 90% within two minutes. However, her opponent Bob was given a weak strategy here (this is the most conservative strategy -- Bob always holds and therefore builds up his score very slowly), and this makes it relatively easy for Alice to become dominant. The following graph shows the history of a tournament for which Bob was given the very strong <code>hold_at=25</code> strategy (50,000 iterations, approx 90 minutes; here, the number of wins are aggregated over 1,000 games)."
   ]
  },
  {
   "cell_type": "markdown",
   "metadata": {},
   "source": [
    "![image.png](./demo_images/A_vs_hold_at_25__50K.png)"
   ]
  },
  {
   "cell_type": "markdown",
   "metadata": {},
   "source": [
    "Alice's performance keeps improving slowly afterwards. Below are the next 800,000 iterations (history was reset, but the learning/gaining of experience is continued; here the number of wins are aggregated over 50,000, so 25,000 corresponds to 50%). Note that, since Bob was given a very good strategy, we can't expect Alice's winning probability to go much beyond 50% (E.g., if Bob had the optimal strategy -- cf. the 'grey solid' on the Wiki page -- then Alice could reach at most 50%)."
   ]
  },
  {
   "cell_type": "markdown",
   "metadata": {},
   "source": [
    "![image.png](./demo_images/A_vs_hold_at_25__50K-850K.png)"
   ]
  },
  {
   "cell_type": "markdown",
   "metadata": {},
   "source": [
    "Is Alice catching up with Bob? Or is she even starting to dominate him? The following graph shows her performance over the next 650,000 iterations (aggregated over 50,000 again)."
   ]
  },
  {
   "cell_type": "markdown",
   "metadata": {},
   "source": [
    "![image.png](./demo_images/A_vs_hold_at_25__850K-1500K.png)"
   ]
  },
  {
   "cell_type": "markdown",
   "metadata": {},
   "source": [
    "### The learning algorithm"
   ]
  },
  {
   "cell_type": "markdown",
   "metadata": {},
   "source": [
    "The task to be learned is to decide whether to continue a turn or to hold. The decision depends only on the player's score, the opponent's score, and the current turn total (cf. the Wiki page). This gives a small parameter space for the function that makes the decision -- its size is $100 \\times 100 \\times 100$. Hence, instead of using machine learning algorithms, the decisions that have been made in a game are recorded in a matrix once the game is concluded. This happens by simply increasing counters, and it has the advantage that the space complexity for the algorithm is constant. The matrix is of size $100 \\times 100 \\times 100 \\times 2 \\times 2$. If in a subsequent game, Alice has to make a decision for a certain situation <code>own_score</code>, <code>opp_score</code>, <code>turn_total</code> (first three dimesions), then the corresponding $2 \\times 2$ matrix (last two dimensions) shows her how often continue/hold decisions have lead to wins/losses in the past. She can then make her decision based on that."
   ]
  },
  {
   "cell_type": "markdown",
   "metadata": {},
   "source": [
    "### Remarks"
   ]
  },
  {
   "cell_type": "markdown",
   "metadata": {},
   "source": [
    "1. This is not a polished project -- no docstrings etc available; please refer to the code. Also, this has not been tested very much and the decision algorithm can be improved.\n",
    "2. The structure of Pig players that are learners ('Alice' in the following) -- a <code>write_to</code> argument and a <code>learn_from</code> list -- is meant to provide flexibility. For example, Alice could learn only from her own decisions, only from the opponent's decisions, or from both. Moreover she could further use an old file of decisions as input or learn from observing other players etc. Most importantly, she could built up her experience by playing Pig players with different strategies. When restarting the notebook or beginning a tournament with a new opponent, the tournament history will be reset, but unless the player data files are deleted or renamed, experiences is built up continuously (when using a number of different files for a learner, or old ones, one can roughly estimate how much experience they contain by calling <code>get_approx_experience()</code> on the player object). \n",
    "3. Note that allows for a lot of exploring: one can let learners play against each other, define a larger group of players with different learning or non-learning strategies, let a learner observe two players with good strategies (e.g. hold at 25 vs hold at 20), etc.\n",
    "4. The disadvantage of the structure mentioned point 2 is that this way, there is quite a lot of writing to / reading from disk. The impact of this was reduced by using virtual file systems within an execution of <code>play_games()</code> -- reading from / writing to disk now only happens at the beginning and end of that method, rather than for each individual game (this reduced time complexity by a factor of 3).\n",
    "5. Running <code>play_game()</code> simulates a single game with detailed output of intermediate scores, see below.\n",
    "6. One can also visualise the decision matrix of a player (cf. the 'grey solid' on the Wiki page). This is demonstrated below.\n",
    "7. To do: improve the algorithm the learning algorithm to make it faster; improve the visualisation."
   ]
  },
  {
   "cell_type": "code",
   "execution_count": 10,
   "metadata": {
    "ExecuteTime": {
     "end_time": "2019-01-12T09:08:33.879297Z",
     "start_time": "2019-01-12T09:08:33.866008Z"
    }
   },
   "outputs": [
    {
     "name": "stdout",
     "output_type": "stream",
     "text": [
      "0 : 0\n",
      "Turn: 0\n",
      "Roll: 4\n",
      "Turn: 4\n",
      "Roll: 3\n",
      "Decided to hold.\n",
      "7 : 0\n",
      "Turn: 0\n",
      "Roll: 1\n",
      "Kicked out.\n",
      "7 : 0\n",
      "Turn: 0\n",
      "Roll: 6\n",
      "Decided to hold.\n",
      "13 : 0\n",
      "Turn: 0\n",
      "Roll: 1\n",
      "Kicked out.\n",
      "13 : 0\n",
      "Turn: 0\n",
      "Roll: 3\n",
      "Decided to hold.\n",
      "16 : 0\n",
      "Turn: 0\n",
      "Roll: 6\n",
      "Decided to hold.\n",
      "16 : 6\n",
      "Turn: 0\n",
      "Roll: 1\n",
      "Kicked out.\n",
      "16 : 6\n",
      "Turn: 0\n",
      "Roll: 2\n",
      "Decided to hold.\n",
      "16 : 8\n",
      "Turn: 0\n",
      "Roll: 6\n",
      "Decided to hold.\n",
      "22 : 8\n",
      "Turn: 0\n",
      "Roll: 4\n",
      "Decided to hold.\n",
      "22 : 12\n",
      "Turn: 0\n",
      "Roll: 4\n",
      "Turn: 4\n",
      "Roll: 6\n",
      "Decided to hold.\n",
      "32 : 12\n",
      "Turn: 0\n",
      "Roll: 5\n",
      "Decided to hold.\n",
      "32 : 17\n",
      "Turn: 0\n",
      "Roll: 2\n",
      "Decided to hold.\n",
      "34 : 17\n",
      "Turn: 0\n",
      "Roll: 6\n",
      "Decided to hold.\n",
      "34 : 23\n",
      "Turn: 0\n",
      "Roll: 3\n",
      "Turn: 3\n",
      "Roll: 4\n",
      "Decided to hold.\n",
      "41 : 23\n",
      "Turn: 0\n",
      "Roll: 1\n",
      "Kicked out.\n",
      "41 : 23\n",
      "Turn: 0\n",
      "Roll: 3\n",
      "Turn: 3\n",
      "Roll: 5\n",
      "Decided to hold.\n",
      "49 : 23\n",
      "Turn: 0\n",
      "Roll: 6\n",
      "Decided to hold.\n",
      "49 : 29\n",
      "Turn: 0\n",
      "Roll: 1\n",
      "Kicked out.\n",
      "49 : 29\n",
      "Turn: 0\n",
      "Roll: 4\n",
      "Decided to hold.\n",
      "49 : 33\n",
      "Turn: 0\n",
      "Roll: 1\n",
      "Kicked out.\n",
      "49 : 33\n",
      "Turn: 0\n",
      "Roll: 6\n",
      "Decided to hold.\n",
      "49 : 39\n",
      "Turn: 0\n",
      "Roll: 1\n",
      "Kicked out.\n",
      "49 : 39\n",
      "Turn: 0\n",
      "Roll: 2\n",
      "Decided to hold.\n",
      "49 : 41\n",
      "Turn: 0\n",
      "Roll: 3\n",
      "Decided to hold.\n",
      "52 : 41\n",
      "Turn: 0\n",
      "Roll: 3\n",
      "Decided to hold.\n",
      "52 : 44\n",
      "Turn: 0\n",
      "Roll: 1\n",
      "Kicked out.\n",
      "52 : 44\n",
      "Turn: 0\n",
      "Roll: 4\n",
      "Decided to hold.\n",
      "52 : 48\n",
      "Turn: 0\n",
      "Roll: 6\n",
      "Decided to hold.\n",
      "58 : 48\n",
      "Turn: 0\n",
      "Roll: 5\n",
      "Decided to hold.\n",
      "58 : 53\n",
      "Turn: 0\n",
      "Roll: 3\n",
      "Decided to hold.\n",
      "61 : 53\n",
      "Turn: 0\n",
      "Roll: 5\n",
      "Decided to hold.\n",
      "61 : 58\n",
      "Turn: 0\n",
      "Roll: 6\n",
      "Decided to hold.\n",
      "67 : 58\n",
      "Turn: 0\n",
      "Roll: 3\n",
      "Decided to hold.\n",
      "67 : 61\n",
      "Turn: 0\n",
      "Roll: 3\n",
      "Decided to hold.\n",
      "70 : 61\n",
      "Turn: 0\n",
      "Roll: 1\n",
      "Kicked out.\n",
      "70 : 61\n",
      "Turn: 0\n",
      "Roll: 2\n",
      "Decided to hold.\n",
      "72 : 61\n",
      "Turn: 0\n",
      "Roll: 6\n",
      "Decided to hold.\n",
      "72 : 67\n",
      "Turn: 0\n",
      "Roll: 2\n",
      "Decided to hold.\n",
      "74 : 67\n",
      "Turn: 0\n",
      "Roll: 2\n",
      "Decided to hold.\n",
      "74 : 69\n",
      "Turn: 0\n",
      "Roll: 3\n",
      "Turn: 3\n",
      "Roll: 6\n",
      "Decided to hold.\n",
      "83 : 69\n",
      "Turn: 0\n",
      "Roll: 6\n",
      "Decided to hold.\n",
      "83 : 75\n",
      "Turn: 0\n",
      "Roll: 6\n",
      "Decided to hold.\n",
      "89 : 75\n",
      "Turn: 0\n",
      "Roll: 3\n",
      "Decided to hold.\n",
      "89 : 78\n",
      "Turn: 0\n",
      "Roll: 4\n",
      "Decided to hold.\n",
      "93 : 78\n",
      "Turn: 0\n",
      "Roll: 2\n",
      "Decided to hold.\n",
      "93 : 80\n",
      "Turn: 0\n",
      "Roll: 4\n",
      "Decided to hold.\n",
      "97 : 80\n",
      "Turn: 0\n",
      "Roll: 3\n",
      "Decided to hold.\n",
      "97 : 83\n",
      "Turn: 0\n",
      "Roll: 5\n",
      "Decided to hold.\n",
      "102 : 83\n",
      "Turn: 0\n",
      "Roll: 3\n",
      "Decided to hold.\n",
      "102 : 86\n"
     ]
    },
    {
     "data": {
      "text/plain": [
       "[True]"
      ]
     },
     "execution_count": 10,
     "metadata": {},
     "output_type": "execute_result"
    }
   ],
   "source": [
    "t.play_game()"
   ]
  },
  {
   "cell_type": "code",
   "execution_count": 11,
   "metadata": {
    "ExecuteTime": {
     "end_time": "2019-01-12T09:08:35.628215Z",
     "start_time": "2019-01-12T09:08:33.881808Z"
    }
   },
   "outputs": [
    {
     "data": {
      "image/png": "[encoded data removed]",
      "text/plain": [
       "<matplotlib.figure.Figure at 0x7f6f523874a8>"
      ]
     },
     "metadata": {},
     "output_type": "display_data"
    }
   ],
   "source": [
    "a.visualise_decision_matrix()"
   ]
  },
  {
   "cell_type": "markdown",
   "metadata": {},
   "source": [
    "This is the decision matrix for Alice from sections 'Pig players' to 'Output' above -- not very interesting. A red dot means that the player should continue rolling. Displaying the decision matrix for Alice from the section 'Performance' is more interesting. This looks as follows and seems to be moving towards the grey solid from the Wiki page. (I.e. this is the decision matrix after learning from 1,500,000 games against a hold_at_25 player; the experience from this long run of simulations is saved in the folder that contains the images  -- to use them, just copy the decision files into the folder './player_data' and define PigPlayers linked to those files)."
   ]
  },
  {
   "cell_type": "markdown",
   "metadata": {},
   "source": [
    "![image.png](./demo_images/A_vs_hold_at_25__dec_mat.png)"
   ]
  }
 ],
 "metadata": {
  "kernelspec": {
   "display_name": "Python 3",
   "language": "python",
   "name": "python3"
  },
  "language_info": {
   "codemirror_mode": {
    "name": "ipython",
    "version": 3
   },
   "file_extension": ".py",
   "mimetype": "text/x-python",
   "name": "python",
   "nbconvert_exporter": "python",
   "pygments_lexer": "ipython3",
   "version": "3.6.4"
  },
  "varInspector": {
   "cols": {
    "lenName": 16,
    "lenType": 16,
    "lenVar": 40
   },
   "kernels_config": {
    "python": {
     "delete_cmd_postfix": "",
     "delete_cmd_prefix": "del ",
     "library": "var_list.py",
     "varRefreshCmd": "print(var_dic_list())"
    },
    "r": {
     "delete_cmd_postfix": ") ",
     "delete_cmd_prefix": "rm(",
     "library": "var_list.r",
     "varRefreshCmd": "cat(var_dic_list()) "
    }
   },
   "types_to_exclude": [
    "module",
    "function",
    "builtin_function_or_method",
    "instance",
    "_Feature"
   ],
   "window_display": false
  }
 },
 "nbformat": 4,
 "nbformat_minor": 2
}
